{
 "cells": [
  {
   "cell_type": "code",
   "execution_count": 1,
   "metadata": {},
   "outputs": [
    {
     "data": {
      "text/plain": [
       "['artists', ' creators', ' patron', ' sponsor', ' music', ' videos']"
      ]
     },
     "execution_count": 1,
     "metadata": {},
     "output_type": "execute_result"
    }
   ],
   "source": [
    "# This cell finds the content of meta tag whose content type is set to description or keywords\n",
    "from bs4 import BeautifulSoup\n",
    "import requests\n",
    "with open('test.html') as html_file:\n",
    "    soup=BeautifulSoup(html_file ,'lxml')\n",
    "match=soup.find('head')\n",
    "dat={}\n",
    "for match1 in match.find_all('meta'):\n",
    "    if(match1.has_attr('name')):\n",
    "        if(match1['name']=='title'):\n",
    "            dat['title']=match1['content']\n",
    "        elif(match1['name']=='description'):\n",
    "            dat['description']=match1['content']\n",
    "        elif (match1['name']=='keywords'):\n",
    "            dat['keywords']=match1['content']\n",
    "p=dat['keywords']\n",
    "s=p.split(',')\n",
    "s "
   ]
  },
  {
   "cell_type": "code",
   "execution_count": 2,
   "metadata": {},
   "outputs": [
    {
     "name": "stdout",
     "output_type": "stream",
     "text": [
      "Enter the Keyword: youtube videos\n",
      "{'youtube movies 2018', 'youtube videos music hindi', 'watch youtube videos unblocked', 'youtube liked videos oldest to newest', 'youtube music mac', 'watch youtube videos without youtube', 'youtube videos tamil movies', 'youtube trending videos india', 'open youtube home', 'youtube movies free download', 'home youtube tamil videos', 'open youtube music', 'youtube desktop channel', 'youtube videos tamil', 'how to open youtube desktop', 'comedy youtube movies', 'open youtube account', 'youtube studio', 'how can i watch video on youtube', 'youtube videos tamil songs', 'watch youtube videos', 'youtube movies hindi', 'youtube liked videos limit', 'youtube trending worldwide now', 'google open youtube', 'youtube desktop upload', 'action youtube movies', 'youtube videos music', 'youtube desktop', 'youtube music playlist', 'open youtube application and search', 'watch youtube videos for free', 'youtube videos tamil news', 'youtube videos tamil comedy', 'm.youtube watch video', 'my youtube', 'youtube dashboard desktop', 'youtube videos tamil serial', 'open youtube in pakistan', 'most liked video on youtube 2019', 'my liked youtube videos', 'youtube trending usa', 'open youtube videos', 'search liked videos youtube', 'youtube movies 2019', 'youtube desktop site chrome', 'youtuber music', 'youtube trending charts', 'youtube desktop site sign in', \"how to see someone's liked videos on youtube\", 'youtube movies full', 'trending youtube videos 2020', 'youtube liked videos privacy', 'trending youtube videos', 'trending videos funny', 'open youtube', 'youtube trending topics', 'youtube movies | telugu', 'tamil video songs', 'watch youtube videos on other website', 'youtube music videos songs', 'youtube videos tamil songs 2018', 'watch youtube videos online', 'youtube music videos free songs', 'youtube movies'}\n"
     ]
    }
   ],
   "source": [
    "# This cell prints some of the top keywords found on google when searched for a particular set of words on it\n",
    "from selenium import webdriver\n",
    "from bs4 import BeautifulSoup\n",
    "import requests\n",
    "term=input(\"Enter the Keyword: \")\n",
    "tab_url=\"https://google.com/search?q=\"\n",
    "l=tab_url+term\n",
    "driver= webdriver.Chrome()\n",
    "driver.get(l)\n",
    "source=driver.execute_script(\"return document.documentElement.outerHTML\")\n",
    "driver.quit()\n",
    "result=BeautifulSoup(source,'lxml')\n",
    "soup=result.find('div', class_='card-section')\n",
    "link=[]\n",
    "text=set()\n",
    "for layer1 in soup.find_all('div',class_=\"brs_col\"):\n",
    "    for layer2 in layer1.find_all('p',class_=\"nVcaUb\"):\n",
    "        link.append((layer2.a)['href'])\n",
    "        text.add(layer2.text)\n",
    "\n",
    "for p in link:\n",
    "    base_url=\"https://google.com\"\n",
    "    comp_url=base_url+p\n",
    "    driver= webdriver.Chrome()\n",
    "    driver.get(comp_url)\n",
    "    source=driver.execute_script(\"return document.documentElement.outerHTML\")\n",
    "    driver.quit()\n",
    "    result=BeautifulSoup(source,'lxml')\n",
    "    soup=result.find('div', class_='card-section')\n",
    "    link=[]\n",
    "    for layer1 in soup.find_all('div',class_=\"brs_col\"):\n",
    "        for layer2 in layer1.find_all('p',class_=\"nVcaUb\"):\n",
    "            text.add(layer2.text)\n",
    "print(text)"
   ]
  },
  {
   "cell_type": "code",
   "execution_count": 3,
   "metadata": {},
   "outputs": [
    {
     "data": {
      "text/plain": [
       "['youtube movies 2018',\n",
       " 'youtube videos music hindi',\n",
       " 'watch youtube videos unblocked',\n",
       " 'youtube liked videos oldest to newest',\n",
       " 'youtube music mac',\n",
       " 'watch youtube videos without youtube',\n",
       " 'youtube videos tamil movies',\n",
       " 'youtube trending videos india',\n",
       " 'open youtube home',\n",
       " 'youtube movies free download',\n",
       " 'home youtube tamil videos',\n",
       " 'open youtube music',\n",
       " 'youtube desktop channel',\n",
       " 'youtube videos tamil',\n",
       " 'how to open youtube desktop',\n",
       " 'comedy youtube movies',\n",
       " 'open youtube account',\n",
       " 'youtube studio',\n",
       " 'how can i watch video on youtube',\n",
       " 'youtube videos tamil songs',\n",
       " 'watch youtube videos',\n",
       " 'youtube movies hindi',\n",
       " 'youtube liked videos limit',\n",
       " 'youtube trending worldwide now',\n",
       " 'google open youtube',\n",
       " 'youtube desktop upload',\n",
       " 'action youtube movies',\n",
       " 'youtube videos music',\n",
       " 'youtube desktop',\n",
       " 'youtube music playlist',\n",
       " 'open youtube application and search',\n",
       " 'watch youtube videos for free',\n",
       " 'youtube videos tamil news',\n",
       " 'youtube videos tamil comedy',\n",
       " 'm.youtube watch video',\n",
       " 'my youtube',\n",
       " 'youtube dashboard desktop',\n",
       " 'youtube videos tamil serial',\n",
       " 'open youtube in pakistan',\n",
       " 'most liked video on youtube 2019',\n",
       " 'my liked youtube videos',\n",
       " 'youtube trending usa',\n",
       " 'open youtube videos',\n",
       " 'search liked videos youtube',\n",
       " 'youtube movies 2019',\n",
       " 'youtube desktop site chrome',\n",
       " 'youtuber music',\n",
       " 'youtube trending charts',\n",
       " 'youtube desktop site sign in',\n",
       " \"how to see someone's liked videos on youtube\",\n",
       " 'youtube movies full',\n",
       " 'trending youtube videos 2020',\n",
       " 'youtube liked videos privacy',\n",
       " 'trending youtube videos',\n",
       " 'trending videos funny',\n",
       " 'open youtube',\n",
       " 'youtube trending topics',\n",
       " 'youtube movies | telugu',\n",
       " 'tamil video songs',\n",
       " 'watch youtube videos on other website',\n",
       " 'youtube music videos songs',\n",
       " 'youtube videos tamil songs 2018',\n",
       " 'watch youtube videos online',\n",
       " 'youtube music videos free songs',\n",
       " 'youtube movies']"
      ]
     },
     "execution_count": 3,
     "metadata": {},
     "output_type": "execute_result"
    }
   ],
   "source": [
    "text_list = list(text)\n",
    "text_list"
   ]
  },
  {
   "cell_type": "code",
   "execution_count": 4,
   "metadata": {},
   "outputs": [],
   "source": [
    "reduced_text_list = text_list[:8]"
   ]
  },
  {
   "cell_type": "code",
   "execution_count": 5,
   "metadata": {},
   "outputs": [
    {
     "name": "stdout",
     "output_type": "stream",
     "text": [
      "You should add - youtube movies 2018 keyword in website\n",
      "You should add - youtube videos music hindi keyword in website\n",
      "You should add - watch youtube videos unblocked keyword in website\n",
      "You should add - youtube liked videos oldest to newest keyword in website\n",
      "You should add - youtube music mac keyword in website\n",
      "You should add - watch youtube videos without youtube keyword in website\n",
      "You should add - youtube videos tamil movies keyword in website\n",
      "You should add - youtube trending videos india keyword in website\n"
     ]
    }
   ],
   "source": [
    "# Suggests to include these keywords in the website for better ranking\n",
    "for text in reduced_text_list:\n",
    "    if text in s:\n",
    "        continue\n",
    "    else:\n",
    "        print(\"You should add -\", text, \"keyword in website\")"
   ]
  },
  {
   "cell_type": "code",
   "execution_count": null,
   "metadata": {},
   "outputs": [],
   "source": []
  }
 ],
 "metadata": {
  "kernelspec": {
   "display_name": "Python 3",
   "language": "python",
   "name": "python3"
  },
  "language_info": {
   "codemirror_mode": {
    "name": "ipython",
    "version": 3
   },
   "file_extension": ".py",
   "mimetype": "text/x-python",
   "name": "python",
   "nbconvert_exporter": "python",
   "pygments_lexer": "ipython3",
   "version": "3.7.4"
  }
 },
 "nbformat": 4,
 "nbformat_minor": 2
}
